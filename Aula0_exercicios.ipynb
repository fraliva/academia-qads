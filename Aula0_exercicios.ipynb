{
 "cells": [
  {
   "cell_type": "markdown",
   "id": "38e88a1b",
   "metadata": {},
   "source": [
    "## Exercícios - Aula 0\n",
    "___\n",
    "\n",
    "1. Crie um algoritmo que pergunte a idade do usuário, transforme a idade enviada para ```float```, calcule a idade em meses, calcule a idade em dias e mostre o resultado de cada operação. Considere que todos os anos possuem exatamente 365 dias.\n",
    "\n",
    "2. Crie um algoritmo que pergunte o primeiro nome, guarde na variável ```primeiro_nome```, pergunte o sobrenome , guarda na variável ```sobrenome```. Por fim o algoritmo deve printar a soma das duas variáveis com uma saudação (de sua escolha) ao usuário.\n",
    "\n",
    "3. No açougue do Seu Joaquim o contra-filé é R\\$39.99 o kilo. Monte um algoritmo para calcular o valor pago caso você compre 5, 10, 15, 2.5 e 5.75 kilos.\n",
    "\n",
    "4. Execute todas as operações aritiméticas básicas (adição, subtração, divisão e multiplicação) com as variáveis 'a' e 'b' abaixo.\n",
    "\n",
    "> a = 15<br>\n",
    "b = 12\n",
    "\n",
    "5. Tente calcular o seu IMC utilizando somente operações matemáticas. Dica: o IMC é calculado da seguinte forma: IMC = peso / (altura em metros * altura em metros)\n",
    "\n",
    "6. Sua professora de português pediu para você escrever a frase 'português é maravilhoso' 50 vezes. Como resolver esse problema com python? Demonstre sua solução.\n",
    "\n",
    "7. Um modelo de regressão linear possui a seguinte fórmula: y=0.253*x + 125. Qual será o valor de Y quando X for 125?\n",
    "\n",
    "8. Cria uma variável chamada ```a```, atribua o valor 15 para ela. Na linha abaixo escreva a = b = 15. Qual será o valor de ```a```?\n",
    "\n",
    "9. É possível criar uma variável chamada ```1_2_3_variavel```? Se não, qual o motivo?\n",
    "\n",
    "10. Crie uma variável chamada ```temp_em_graus``` e atribua a temperatura de hoje a ela. Crie uma segunda ```temp_em_f``` e guarde a transformação do valor da primeira variável de graus para Fahrenheit."
   ]
  }
 ],
 "metadata": {
  "kernelspec": {
   "display_name": "Python 3",
   "language": "python",
   "name": "python3"
  },
  "language_info": {
   "codemirror_mode": {
    "name": "ipython",
    "version": 3
   },
   "file_extension": ".py",
   "mimetype": "text/x-python",
   "name": "python",
   "nbconvert_exporter": "python",
   "pygments_lexer": "ipython3",
   "version": "3.8.5"
  }
 },
 "nbformat": 4,
 "nbformat_minor": 5
}
